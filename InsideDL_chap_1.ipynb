{
  "cells": [
    {
      "cell_type": "markdown",
      "metadata": {
        "colab_type": "text",
        "id": "view-in-github"
      },
      "source": [
        "<a href=\"https://colab.research.google.com/github/Kaizzen42/InsideDLBook/blob/main/InsideDL_chap_1.ipynb\" target=\"_parent\"><img src=\"https://colab.research.google.com/assets/colab-badge.svg\" alt=\"Open In Colab\"/></a>"
      ]
    },
    {
      "cell_type": "code",
      "execution_count": 1,
      "metadata": {
        "colab": {
          "base_uri": "https://localhost:8080/"
        },
        "id": "SqZf2TnUAwcS",
        "outputId": "d335ea32-20b4-4501-9b78-266fd21a92bb"
      },
      "outputs": [],
      "source": [
        "import seaborn as sns\n",
        "import matplotlib.pyplot as plt\n",
        "import numpy as np\n",
        "from tqdm.autonotebook import tqdm\n",
        "import pandas as pd"
      ]
    },
    {
      "cell_type": "code",
      "execution_count": 3,
      "metadata": {
        "id": "RsBqtlGrA0_T"
      },
      "outputs": [],
      "source": [
        "import torch\n"
      ]
    },
    {
      "cell_type": "code",
      "execution_count": 4,
      "metadata": {
        "id": "JfNTV1AfCe76"
      },
      "outputs": [],
      "source": [
        "torch_scalar = torch.tensor(3.14)\n",
        "torch_vector = torch.tensor([4,5,6,7])\n",
        "torch_matrix = torch.tensor([[1,2,3], [4,5,6], [7,8,9], [10,11,12]])\n",
        "torch_tensor3d = torch.tensor([[[11,12,13], [21,22,23]], [[41,42,43],[51,52,53]]])"
      ]
    },
    {
      "cell_type": "code",
      "execution_count": 5,
      "metadata": {
        "colab": {
          "base_uri": "https://localhost:8080/"
        },
        "id": "A7KxM9J1DLB7",
        "outputId": "98778d7a-11cd-45ac-acf9-4cf5a3ca4cc2"
      },
      "outputs": [
        {
          "name": "stdout",
          "output_type": "stream",
          "text": [
            "torch.Size([])\n",
            "torch.Size([4])\n",
            "torch.Size([4, 3])\n",
            "torch.Size([2, 2, 3])\n",
            "\n",
            "3.140000104904175\n"
          ]
        }
      ],
      "source": [
        "print(torch_scalar.shape)\n",
        "print(torch_vector.shape)\n",
        "print(torch_matrix.shape)\n",
        "print(torch_tensor3d.shape)\n",
        "# To get the value of a number from a tensor, use the item function\n",
        "print(f\"\\n{torch_scalar.item()}\")"
      ]
    },
    {
      "cell_type": "code",
      "execution_count": 6,
      "metadata": {
        "colab": {
          "base_uri": "https://localhost:8080/"
        },
        "id": "SZsMMT9uDPZZ",
        "outputId": "68788f69-1553-44a0-c1e5-c380793b301f"
      },
      "outputs": [
        {
          "name": "stdout",
          "output_type": "stream",
          "text": [
            "[[0.47950943 0.72330693 0.26188703 0.47830525]\n",
            " [0.882597   0.36255201 0.68358743 0.10585989]\n",
            " [0.76138309 0.4943075  0.77838324 0.83325103]\n",
            " [0.17724341 0.669034   0.56711536 0.74711545]]\n",
            "(4, 4)\n",
            "tensor([[0.4795, 0.7233, 0.2619, 0.4783],\n",
            "        [0.8826, 0.3626, 0.6836, 0.1059],\n",
            "        [0.7614, 0.4943, 0.7784, 0.8333],\n",
            "        [0.1772, 0.6690, 0.5671, 0.7471]], dtype=torch.float64)\n",
            "torch.Size([4, 4])\n"
          ]
        }
      ],
      "source": [
        "x_np = np.random.random((4,4))\n",
        "print(x_np)\n",
        "print(x_np.shape)\n",
        "x_pt = torch.tensor(x_np)\n",
        "print(x_pt)\n",
        "print(x_pt.shape)"
      ]
    },
    {
      "cell_type": "code",
      "execution_count": 7,
      "metadata": {
        "colab": {
          "base_uri": "https://localhost:8080/"
        },
        "id": "LiDMyEOsEgPU",
        "outputId": "67ae2d21-e8d1-4c88-bf39-d3fdadad879b"
      },
      "outputs": [
        {
          "name": "stdout",
          "output_type": "stream",
          "text": [
            "float64 torch.float64\n"
          ]
        }
      ],
      "source": [
        "print(x_np.dtype, x_pt.dtype)"
      ]
    },
    {
      "cell_type": "code",
      "execution_count": 8,
      "metadata": {
        "colab": {
          "base_uri": "https://localhost:8080/"
        },
        "id": "tFnO14RBGioT",
        "outputId": "48fedc07-b655-41e1-dc7f-cc668ab5f020"
      },
      "outputs": [
        {
          "name": "stdout",
          "output_type": "stream",
          "text": [
            "[[0.4795094  0.72330695 0.261887   0.47830525]\n",
            " [0.88259697 0.36255202 0.68358743 0.10585989]\n",
            " [0.7613831  0.49430752 0.77838326 0.833251  ]\n",
            " [0.17724341 0.669034   0.56711537 0.74711543]] tensor([[0.4795, 0.7233, 0.2619, 0.4783],\n",
            "        [0.8826, 0.3626, 0.6836, 0.1059],\n",
            "        [0.7614, 0.4943, 0.7784, 0.8333],\n",
            "        [0.1772, 0.6690, 0.5671, 0.7471]])\n"
          ]
        }
      ],
      "source": [
        "x_np_32 = np.asarray(x_np, dtype=np.float32)\n",
        "x_pt_32 = torch.tensor(x_np_32, dtype=torch.float32)\n",
        "print(x_np_32, x_pt_32)"
      ]
    },
    {
      "cell_type": "code",
      "execution_count": 9,
      "metadata": {
        "colab": {
          "base_uri": "https://localhost:8080/"
        },
        "id": "Ynmj9kycG9ft",
        "outputId": "b4d41c8b-448b-4cc5-d3b4-90fd70acd38f"
      },
      "outputs": [
        {
          "name": "stdout",
          "output_type": "stream",
          "text": [
            "tensor([[[11, 12, 13],\n",
            "         [21, 22, 23]],\n",
            "\n",
            "        [[41, 42, 43],\n",
            "         [51, 52, 53]]])\n",
            "torch.Size([3, 2, 2])\n",
            "tensor([[[11, 41],\n",
            "         [21, 51]],\n",
            "\n",
            "        [[12, 42],\n",
            "         [22, 52]],\n",
            "\n",
            "        [[13, 43],\n",
            "         [23, 53]]])\n"
          ]
        }
      ],
      "source": [
        "print(torch_tensor3d)\n",
        "torch_tensor3d_t = torch.transpose(torch_tensor3d, 0, 2)\n",
        "print(torch_tensor3d_t.shape)\n",
        "print(torch_tensor3d_t)"
      ]
    },
    {
      "cell_type": "code",
      "execution_count": 10,
      "metadata": {
        "colab": {
          "base_uri": "https://localhost:8080/"
        },
        "id": "EhLfQ82cH-vV",
        "outputId": "09a8a424-1c7b-4eff-b057-492bef252a03"
      },
      "outputs": [
        {
          "name": "stdout",
          "output_type": "stream",
          "text": [
            "torch.Size([2048, 2048])\n"
          ]
        }
      ],
      "source": [
        "import timeit\n",
        "x = torch.rand(2**11, 2**11)\n",
        "print(x.shape)"
      ]
    },
    {
      "cell_type": "code",
      "execution_count": 11,
      "metadata": {
        "colab": {
          "base_uri": "https://localhost:8080/"
        },
        "id": "yRtLLFyUJXl-",
        "outputId": "c570a14f-3704-4260-9a7d-35f553f2af1b"
      },
      "outputs": [
        {
          "data": {
            "text/plain": [
              "tensor(0.4326)"
            ]
          },
          "execution_count": 11,
          "metadata": {},
          "output_type": "execute_result"
        }
      ],
      "source": [
        "x[0,0]"
      ]
    },
    {
      "cell_type": "code",
      "execution_count": 12,
      "metadata": {
        "colab": {
          "base_uri": "https://localhost:8080/"
        },
        "id": "8EcEv6TCJdxL",
        "outputId": "be8b1b4c-a25e-4818-f284-d9f467f88521"
      },
      "outputs": [
        {
          "data": {
            "text/plain": [
              "tensor([0.4326, 0.7026, 0.4426,  ..., 0.6730, 0.8240, 0.4703])"
            ]
          },
          "execution_count": 12,
          "metadata": {},
          "output_type": "execute_result"
        }
      ],
      "source": [
        "x[0,:]"
      ]
    },
    {
      "cell_type": "code",
      "execution_count": 13,
      "metadata": {
        "colab": {
          "base_uri": "https://localhost:8080/"
        },
        "id": "SDv4pFcdJfQF",
        "outputId": "936265c1-ccf0-461d-9be7-5ffd65ed1e19"
      },
      "outputs": [
        {
          "data": {
            "text/plain": [
              "tensor([0.4326, 0.8394, 0.8179,  ..., 0.9651, 0.0256, 0.2227])"
            ]
          },
          "execution_count": 13,
          "metadata": {},
          "output_type": "execute_result"
        }
      ],
      "source": [
        "x[:,0]"
      ]
    },
    {
      "cell_type": "code",
      "execution_count": 14,
      "metadata": {
        "id": "iXqQxor9JgxQ"
      },
      "outputs": [],
      "source": [
        "time_cpu = timeit.timeit(\"x@x\", globals=globals(), number=100)"
      ]
    },
    {
      "cell_type": "code",
      "execution_count": 15,
      "metadata": {
        "colab": {
          "base_uri": "https://localhost:8080/"
        },
        "id": "2mF0Hhs-Jupy",
        "outputId": "f44c73ba-6536-496e-e405-b77e8260be57"
      },
      "outputs": [
        {
          "data": {
            "text/plain": [
              "39.043900916999974"
            ]
          },
          "execution_count": 15,
          "metadata": {},
          "output_type": "execute_result"
        }
      ],
      "source": [
        "time_cpu"
      ]
    },
    {
      "cell_type": "code",
      "execution_count": 16,
      "metadata": {
        "id": "BJy91jtpJves"
      },
      "outputs": [
        {
          "name": "stdout",
          "output_type": "stream",
          "text": [
            "Using device cpu\n"
          ]
        }
      ],
      "source": [
        "# current_device = torch.cuda.get_device_name()\n",
        "# print(f\"Current device = {current_device}\")\n",
        "\n",
        "# gpu_Available = torch.cuda.is_available()\n",
        "# print(\"Is CUDA available? :\", gpu_Available)\n",
        "\n",
        "# if gpu_Available:\n",
        "#   device = torch.device(\"cuda\")\n",
        "# else:\n",
        "#   device = current_device\n",
        "device = torch.device(\"cuda:0\" if torch.cuda.is_available() else \"cpu\")\n",
        "print(f\"Using device {device}\")"
      ]
    },
    {
      "cell_type": "code",
      "execution_count": 17,
      "metadata": {
        "colab": {
          "base_uri": "https://localhost:8080/"
        },
        "id": "qwBmSLhGKHA3",
        "outputId": "9c51ced2-2d5e-4ce4-91a1-7b4918da513f"
      },
      "outputs": [
        {
          "data": {
            "text/plain": [
              "39.162166125"
            ]
          },
          "execution_count": 17,
          "metadata": {},
          "output_type": "execute_result"
        }
      ],
      "source": [
        "x = x.to(device)\n",
        "time_gpu = timeit.timeit(\"x@x\", globals=globals(), number=100)\n",
        "time_gpu"
      ]
    },
    {
      "cell_type": "code",
      "execution_count": 18,
      "metadata": {
        "colab": {
          "base_uri": "https://localhost:8080/"
        },
        "id": "swYfTz7kKdqH",
        "outputId": "d1dff71a-3941-4e7e-bfe2-990f31a6b117"
      },
      "outputs": [
        {
          "name": "stdout",
          "output_type": "stream",
          "text": [
            "[tensor(1), tensor(2)]\n",
            "[tensor(1), tensor(2)]\n"
          ]
        }
      ],
      "source": [
        "def moveTo(obj, device):\n",
        "    \"\"\"\n",
        "    obj: the python object to move to a device, or to move\n",
        "    its contents to a device\n",
        "    device: the compute device to move objects to\n",
        "    \"\"\"\n",
        "    if isinstance(obj, list):\n",
        "        return [moveTo(x, device) for x in obj]\n",
        "    elif isinstance(obj, tuple):\n",
        "        return tuple(moveTo(list(obj), device))\n",
        "    elif isinstance(obj, set):\n",
        "        return set(moveTo(list(obj), device))\n",
        "    elif isinstance(obj, dict):\n",
        "        to_ret = dict()\n",
        "        for key, value in obj.items():\n",
        "            to_ret[moveTo(key, device)] = moveTo(value, device)\n",
        "        return to_ret\n",
        "    elif hasattr(obj, \"to\"):\n",
        "        return obj.to(device)\n",
        "    else:\n",
        "        return obj\n",
        "    \n",
        "some_tensors = [torch.tensor(1), torch.tensor(2)]\n",
        "print(some_tensors)\n",
        "print(moveTo(some_tensors, device))\n"
      ]
    },
    {
      "cell_type": "code",
      "execution_count": 19,
      "metadata": {
        "colab": {
          "base_uri": "https://localhost:8080/",
          "height": 283
        },
        "id": "KUj1eRJfLFY1",
        "outputId": "58ad7e63-0967-4f9d-ce9c-e062791baf7e"
      },
      "outputs": [
        {
          "data": {
            "text/plain": [
              "<AxesSubplot:>"
            ]
          },
          "execution_count": 19,
          "metadata": {},
          "output_type": "execute_result"
        },
        {
          "data": {
            "image/png": "[encoded data removed]",
            "text/plain": [
              "<Figure size 432x288 with 1 Axes>"
            ]
          },
          "metadata": {
            "needs_background": "light"
          },
          "output_type": "display_data"
        }
      ],
      "source": [
        "def x_minus2_sq(x):\n",
        "  return torch.pow((x-2.0), 2)\n",
        "\n",
        "x_axis_vals = np.linspace(-7,9,1000)\n",
        "y_axis_vals = x_minus2_sq(torch.tensor(x_axis_vals)).numpy()\n",
        "\n",
        "sns.lineplot(x=x_axis_vals, y=y_axis_vals, label=\"$x_minus2_sq(x)=(x-2)^2$\")\n"
      ]
    },
    {
      "cell_type": "code",
      "execution_count": 20,
      "metadata": {
        "colab": {
          "base_uri": "https://localhost:8080/",
          "height": 283
        },
        "id": "bEl_2MSAbJ9H",
        "outputId": "8b51f6ce-b9fb-4431-918a-ea1da1e26cff"
      },
      "outputs": [
        {
          "data": {
            "text/plain": [
              "<AxesSubplot:>"
            ]
          },
          "execution_count": 20,
          "metadata": {},
          "output_type": "execute_result"
        },
        {
          "data": {
            "image/png": "[encoded data removed]",
            "text/plain": [
              "<Figure size 432x288 with 1 Axes>"
            ]
          },
          "metadata": {
            "needs_background": "light"
          },
          "output_type": "display_data"
        }
      ],
      "source": [
        "def x_minus2_sq_P(x):\n",
        "  return 2*x-4.0\n",
        "\n",
        "y_axis_vals_p = x_minus2_sq_P(torch.tensor(x_axis_vals)).numpy()\n",
        "#First, lets draw a black line at 0, so that we can easily\n",
        "# tell if something is positive or negative\n",
        "sns.lineplot(x=x_axis_vals, y=[0.0]*len(x_axis_vals),\n",
        "label=\"0\", color='black')\n",
        "sns.lineplot(x=x_axis_vals, y=y_axis_vals,\n",
        "label='$f(x) = (x-2)^2$')\n",
        "sns.lineplot(x=x_axis_vals, y=y_axis_vals_p,\n",
        "label=\"$f’(x)=2 x - 4$\")"
      ]
    },
    {
      "cell_type": "code",
      "execution_count": 21,
      "metadata": {
        "colab": {
          "base_uri": "https://localhost:8080/"
        },
        "id": "NT65CAEUf6D8",
        "outputId": "b0420cd9-319d-419b-96d6-d18329968195"
      },
      "outputs": [
        {
          "name": "stdout",
          "output_type": "stream",
          "text": [
            "tensor([2.0000])\n"
          ]
        }
      ],
      "source": [
        "x = torch.tensor([-3.5], requires_grad=True)\n",
        " \n",
        "x_cur = x.clone()\n",
        "x_prev = x_cur*100 #Make the initial \"previous\" solution larger\n",
        "epsilon = 1e-5\n",
        "eta = 0.1\n",
        " \n",
        "while torch.linalg.norm(x_cur-x_prev) > epsilon:\n",
        "    x_prev = x_cur.clone() #We need to make a clone here so that\n",
        "    #x_prev and x_cur don't point to the same object\n",
        "    \n",
        "    #Compute our function, gradient, and update\n",
        "    value = x_minus2_sq(x)\n",
        "    value.backward()\n",
        "    x.data -= eta * x.grad\n",
        "    x.grad.zero_() #We need to zero out the old gradient, as\n",
        "    #py-torch will not do that for us\n",
        "    \n",
        "    #What are we currently now?\n",
        "    x_cur = x.data\n",
        "    \n",
        "print(x_cur)\n"
      ]
    },
    {
      "cell_type": "code",
      "execution_count": 22,
      "metadata": {
        "id": "5Z-ckeo6kazz"
      },
      "outputs": [],
      "source": [
        "x_param = torch.nn.Parameter(torch.tensor([-3.5]), requires_grad=True)\n",
        "optimizer = torch.optim.SGD(params=[x_param], lr=eta)"
      ]
    },
    {
      "cell_type": "code",
      "execution_count": 23,
      "metadata": {
        "colab": {
          "base_uri": "https://localhost:8080/"
        },
        "id": "I1GZJpz2dXgT",
        "outputId": "cd18d9fa-051a-4993-8f4d-6f64af9ddf4f"
      },
      "outputs": [
        {
          "name": "stdout",
          "output_type": "stream",
          "text": [
            "Type of loss incurred = <class 'torch.Tensor'>\n",
            "0: tensor([-2.4000])\n",
            "10: tensor([1.5276])\n",
            "20: tensor([1.9493])\n",
            "30: tensor([1.9946])\n",
            "40: tensor([1.9994])\n",
            "50: tensor([1.9999])\n",
            "60: tensor([2.0000])\n"
          ]
        }
      ],
      "source": [
        "num_epochs = 61\n",
        "param_updates = []\n",
        "for epoch in range(num_epochs):\n",
        "  optimizer.zero_grad()\n",
        "  loss_incurred = x_minus2_sq(x_param)\n",
        "  if epoch == 0:\n",
        "    print(f\"Type of loss incurred = {type(loss_incurred)}\")\n",
        "  loss_incurred.backward()\n",
        "  optimizer.step() # this means the parameters would get updated using the learning rate and gradient.\n",
        "  param_updates.append(x_param.data.item())\n",
        "  if epoch %10 == 0:\n",
        "    print(f\"{epoch}: {x_param.data}\")"
      ]
    },
    {
      "cell_type": "code",
      "execution_count": 24,
      "metadata": {
        "colab": {
          "base_uri": "https://localhost:8080/",
          "height": 283
        },
        "id": "CUwvO8_IeeZS",
        "outputId": "4491855a-c467-4e49-832a-8b42de47eea0"
      },
      "outputs": [
        {
          "data": {
            "text/plain": [
              "<AxesSubplot:>"
            ]
          },
          "execution_count": 24,
          "metadata": {},
          "output_type": "execute_result"
        },
        {
          "data": {
            "image/png": "[encoded data removed]",
            "text/plain": [
              "<Figure size 432x288 with 1 Axes>"
            ]
          },
          "metadata": {
            "needs_background": "light"
          },
          "output_type": "display_data"
        }
      ],
      "source": [
        "sns.lineplot(x=np.linspace(0,61,61), y=param_updates)"
      ]
    },
    {
      "cell_type": "code",
      "execution_count": 26,
      "metadata": {
        "colab": {
          "base_uri": "https://localhost:8080/"
        },
        "id": "PcQ3ZZByqWP4",
        "outputId": "da562df8-a10c-458c-a26b-e460504f0e44"
      },
      "outputs": [
        {
          "name": "stdout",
          "output_type": "stream",
          "text": [
            "(70000, 784)\n"
          ]
        }
      ],
      "source": [
        "from torch.utils.data import Dataset\n",
        "from sklearn.datasets import fetch_openml\n",
        "\n",
        "# Loading the MNIST dataset\n",
        "\n",
        "\n",
        "X,y = fetch_openml('mnist_784', version=1, return_X_y=True)\n",
        "print(X.shape)"
      ]
    },
    {
      "cell_type": "code",
      "execution_count": 27,
      "metadata": {
        "id": "gBQW7fWSsKug"
      },
      "outputs": [],
      "source": [
        "class SimpleDataset(Dataset):\n",
        "  def __init__(self, X, y):\n",
        "    super(SimpleDataset, self).__init__()\n",
        "    self.X = X\n",
        "    self.y = y\n",
        "\n",
        "  def __getitem__(self, index):\n",
        "    inputs = torch.tensor(self.X.iloc[index,:], dtype=torch.float32)\n",
        "    targets = torch.tensor(int(self.y[index]), dtype=torch.int64)\n",
        "    return inputs, targets\n",
        "\n",
        "  def __len__(self):\n",
        "    return self.X.shape[0]\n",
        "\n",
        "  "
      ]
    },
    {
      "cell_type": "code",
      "execution_count": 28,
      "metadata": {
        "id": "4ayHc_h6uCaz"
      },
      "outputs": [],
      "source": [
        "dataset = SimpleDataset(X,y)"
      ]
    },
    {
      "cell_type": "code",
      "execution_count": 29,
      "metadata": {
        "colab": {
          "base_uri": "https://localhost:8080/"
        },
        "id": "5qKt6HZVvw9C",
        "outputId": "5ef9e0f7-5e1e-4862-b40f-f69a2dab7719"
      },
      "outputs": [
        {
          "data": {
            "text/plain": [
              "pixel1      0.0\n",
              "pixel2      0.0\n",
              "pixel3      0.0\n",
              "pixel4      0.0\n",
              "pixel5      0.0\n",
              "           ... \n",
              "pixel780    0.0\n",
              "pixel781    0.0\n",
              "pixel782    0.0\n",
              "pixel783    0.0\n",
              "pixel784    0.0\n",
              "Name: 0, Length: 784, dtype: float64"
            ]
          },
          "execution_count": 29,
          "metadata": {},
          "output_type": "execute_result"
        }
      ],
      "source": [
        "X.iloc[0,:]"
      ]
    },
    {
      "cell_type": "code",
      "execution_count": 30,
      "metadata": {
        "colab": {
          "base_uri": "https://localhost:8080/"
        },
        "id": "wT-ZCbRBuEgP",
        "outputId": "d76f1697-25e9-4502-9b86-9daba0272086"
      },
      "outputs": [
        {
          "name": "stdout",
          "output_type": "stream",
          "text": [
            "Length:  70000\n",
            "Features:  torch.Size([784])\n",
            "Label of index 0:  tensor(5)\n"
          ]
        }
      ],
      "source": [
        "print(\"Length: \", len(dataset))\n",
        "example, label = dataset.__getitem__(0)\n",
        "\n",
        "print(\"Features: \", example.shape) #Will return 784\n",
        "print(\"Label of index 0: \", label)\n"
      ]
    },
    {
      "cell_type": "code",
      "execution_count": 31,
      "metadata": {
        "colab": {
          "base_uri": "https://localhost:8080/",
          "height": 283
        },
        "id": "bNlJjpzauFeE",
        "outputId": "d1e840e8-1308-4c87-c79c-0182b873c0b5"
      },
      "outputs": [
        {
          "data": {
            "text/plain": [
              "<matplotlib.image.AxesImage at 0x7f964af9fed0>"
            ]
          },
          "execution_count": 31,
          "metadata": {},
          "output_type": "execute_result"
        },
        {
          "data": {
            "image/png": "[encoded data removed]",
            "text/plain": [
              "<Figure size 432x288 with 1 Axes>"
            ]
          },
          "metadata": {
            "needs_background": "light"
          },
          "output_type": "display_data"
        }
      ],
      "source": [
        "plt.imshow(example.reshape((28,28)))"
      ]
    },
    {
      "cell_type": "code",
      "execution_count": 32,
      "metadata": {
        "colab": {
          "base_uri": "https://localhost:8080/"
        },
        "id": "l4syPGnixgrq",
        "outputId": "c9c4c5c2-f465-46c9-a226-a8e562b944ce"
      },
      "outputs": [
        {
          "name": "stdout",
          "output_type": "stream",
          "text": [
            "56000 examples for training and 14000 for testing\n"
          ]
        }
      ],
      "source": [
        "train_size = int(len(dataset)*0.8)\n",
        "test_size = len(dataset)-train_size\n",
        " \n",
        "train_dataset, test_dataset = torch.utils.data.random_split(dataset, (train_size, test_size))\n",
        "print(\"{} examples for training and {} for testing\".format(len(train_dataset), len(test_dataset)))\n"
      ]
    },
    {
      "cell_type": "code",
      "execution_count": null,
      "metadata": {
        "id": "lbxcqmu4xlo6"
      },
      "outputs": [],
      "source": []
    },
    {
      "cell_type": "markdown",
      "metadata": {
        "id": "TeIAHdE71cjR"
      },
      "source": [
        "Exercises begin here. https://livebook.manning.com/book/inside-deep-learning/chapter-1/v-10/point-14108-172-172-0 "
      ]
    },
    {
      "cell_type": "code",
      "execution_count": 33,
      "metadata": {
        "colab": {
          "base_uri": "https://localhost:8080/"
        },
        "id": "3WPNPx1D1it5",
        "outputId": "48aff54e-d9df-4d43-e86a-804f806a4f7a"
      },
      "outputs": [
        {
          "name": "stdout",
          "output_type": "stream",
          "text": [
            "tensor([[[11, 12, 13],\n",
            "         [21, 22, 23]],\n",
            "\n",
            "        [[41, 42, 43],\n",
            "         [51, 52, 53]]])\n",
            "Average = 32.0\n"
          ]
        }
      ],
      "source": [
        "# 1. Write a series of for loops that compute the average value in torch_tensor3d\n",
        "print(torch_tensor3d)\n",
        "sum_3d = 0.0\n",
        "for b in range(torch_tensor3d.shape[0]):\n",
        "  for w in range(torch_tensor3d.shape[1]):\n",
        "    for h in range(torch_tensor3d.shape[2]):\n",
        "      sum_3d += torch_tensor3d[b][w][h]\n",
        "print(f\"Average = {sum_3d/torch_tensor3d.numel()}\")\n",
        "\n"
      ]
    },
    {
      "cell_type": "code",
      "execution_count": 34,
      "metadata": {
        "colab": {
          "base_uri": "https://localhost:8080/"
        },
        "id": "2dImYW7K1oyz",
        "outputId": "ff15ebd8-f60b-443f-e554-358f7f26f51d"
      },
      "outputs": [
        {
          "name": "stdout",
          "output_type": "stream",
          "text": [
            "13\n"
          ]
        }
      ],
      "source": [
        "# 2. Write code that indexes into torch_tensor3d and prints out the value “13”.\n",
        "\n",
        "print(torch_tensor3d[0][0][2].item())\n"
      ]
    },
    {
      "cell_type": "code",
      "execution_count": 70,
      "metadata": {
        "colab": {
          "base_uri": "https://localhost:8080/",
          "height": 73
        },
        "id": "S7VNCHt82RmS",
        "outputId": "c0b64be3-3854-4255-97d7-73d914effc62"
      },
      "outputs": [
        {
          "data": {
            "text/plain": [
              "'\\nOn Google Colab\\nShape = torch.Size([1, 1]) time = 2.979190419999213 seconds\\nShape = torch.Size([2, 2]) time = 3.1341822079994017 seconds\\nShape = torch.Size([4, 4]) time = 3.173355848997744 seconds\\nShape = torch.Size([8, 8]) time = 3.487799227001233 seconds\\nShape = torch.Size([16, 16]) time = 4.030215064998629 seconds\\nShape = torch.Size([32, 32]) time = 7.503608662998886 seconds\\nShape = torch.Size([64, 64]) time = 29.172384212997713 seconds\\nShape = torch.Size([128, 128]) time = 201.93375202100287 seconds\\n\\nOn my M1 pro\\nShape = torch.Size([1, 1]) time = 1.9255991250001898 seconds\\nShape = torch.Size([2, 2]) time = 1.9728547079994314 seconds\\nShape = torch.Size([4, 4]) time = 1.9923289589996784 seconds\\nShape = torch.Size([8, 8]) time = 2.249990207999872 seconds\\nShape = torch.Size([16, 16]) time = 2.2637783330001184 seconds\\nShape = torch.Size([32, 32]) time = 3.874609999999848 seconds\\nShape = torch.Size([64, 64]) time = 15.125312207999741 seconds\\nShape = torch.Size([128, 128]) time = 101.99386770800083 seconds\\n'"
            ]
          },
          "execution_count": 70,
          "metadata": {},
          "output_type": "execute_result"
        }
      ],
      "source": [
        "# 3. For every power of 2 (i.e., i or 2**i ) up to 2^11, create a random matrix X ∈ ℝ2^i, \n",
        "# 2^i (i.e., X.shape should give (2**i, 2**i)). Time how long it takes to compute X X (i.e., X @ X) \n",
        "# on a CPU and on a GPU and plot the speedup. For what sized matrices is the CPU faster than the GPU?\n",
        "\n",
        "# cpu_times = []\n",
        "# for exp in range(11):\n",
        "#   side = 2**exp\n",
        "#   mat_x = torch.rand((side, side))\n",
        "#   time_cpu = timeit.timeit(\"mat_x@mat_x\", globals=globals())\n",
        "#   print(f\"Shape = {mat_x.shape} time = {time_cpu} seconds\")\n",
        "#   cpu_times.append(time_cpu)\n",
        "\n",
        "\"\"\"\n",
        "On Google Colab\n",
        "Shape = torch.Size([1, 1]) time = 2.979190419999213 seconds\n",
        "Shape = torch.Size([2, 2]) time = 3.1341822079994017 seconds\n",
        "Shape = torch.Size([4, 4]) time = 3.173355848997744 seconds\n",
        "Shape = torch.Size([8, 8]) time = 3.487799227001233 seconds\n",
        "Shape = torch.Size([16, 16]) time = 4.030215064998629 seconds\n",
        "Shape = torch.Size([32, 32]) time = 7.503608662998886 seconds\n",
        "Shape = torch.Size([64, 64]) time = 29.172384212997713 seconds\n",
        "Shape = torch.Size([128, 128]) time = 201.93375202100287 seconds\n",
        "\n",
        "On my M1 pro\n",
        "Shape = torch.Size([1, 1]) time = 1.9255991250001898 seconds\n",
        "Shape = torch.Size([2, 2]) time = 1.9728547079994314 seconds\n",
        "Shape = torch.Size([4, 4]) time = 1.9923289589996784 seconds\n",
        "Shape = torch.Size([8, 8]) time = 2.249990207999872 seconds\n",
        "Shape = torch.Size([16, 16]) time = 2.2637783330001184 seconds\n",
        "Shape = torch.Size([32, 32]) time = 3.874609999999848 seconds\n",
        "Shape = torch.Size([64, 64]) time = 15.125312207999741 seconds\n",
        "Shape = torch.Size([128, 128]) time = 101.99386770800083 seconds\n",
        "\"\"\"\n"
      ]
    },
    {
      "cell_type": "code",
      "execution_count": null,
      "metadata": {
        "id": "FVGMfwf_jizx"
      },
      "outputs": [],
      "source": []
    },
    {
      "cell_type": "code",
      "execution_count": 36,
      "metadata": {
        "colab": {
          "base_uri": "https://localhost:8080/"
        },
        "id": "PCZGlr5xctVe",
        "outputId": "9b6544d9-bd40-4dde-c189-9d0d54cf3a4b"
      },
      "outputs": [
        {
          "data": {
            "text/plain": [
              "'\\nShape = torch.Size([1, 1]) time = 2.8066383080000037 seconds\\nShape = torch.Size([2, 2]) time = 3.2974687300000483 seconds\\nShape = torch.Size([4, 4]) time = 3.328247248000025 seconds\\nShape = torch.Size([8, 8]) time = 3.3983864729999596 seconds\\nShape = torch.Size([16, 16]) time = 3.4297066249999943 seconds\\nShape = torch.Size([32, 32]) time = 4.289262048000012 seconds\\nShape = torch.Size([64, 64]) time = 10.598849075999965 seconds\\nShape = torch.Size([128, 128]) time = 77.04188489300003 seconds\\nShape = torch.Size([256, 256]) time = 469.70090312400004 seconds\\n'"
            ]
          },
          "execution_count": 36,
          "metadata": {},
          "output_type": "execute_result"
        }
      ],
      "source": [
        "# 3. For every power of 2 (i.e., i or 2**i ) up to 2^11, create a random matrix X ∈ ℝ2^i, \n",
        "# 2^i (i.e., X.shape should give (2**i, 2**i)). Time how long it takes to compute X X (i.e., X @ X) \n",
        "# on a CPU and on a GPU and plot the speedup. For what sized matrices is the CPU faster than the GPU?\n",
        "\n",
        "# gpu_times = []\n",
        "# for exp in range(11):\n",
        "#   side = 2**exp\n",
        "#   mat_x = torch.rand((side, side))\n",
        "#   moveTo(mat_x, device)\n",
        "#   time_gpu = timeit.timeit(\"mat_x@mat_x\", globals=globals())\n",
        "#   print(f\"Shape = {mat_x.shape} time = {time_gpu} seconds\")\n",
        "#   gpu_times.append(time_gpu)\n",
        "\n",
        "\n",
        "\n",
        "\n",
        "\"\"\"\n",
        "Shape = torch.Size([1, 1]) time = 2.8066383080000037 seconds\n",
        "Shape = torch.Size([2, 2]) time = 3.2974687300000483 seconds\n",
        "Shape = torch.Size([4, 4]) time = 3.328247248000025 seconds\n",
        "Shape = torch.Size([8, 8]) time = 3.3983864729999596 seconds\n",
        "Shape = torch.Size([16, 16]) time = 3.4297066249999943 seconds\n",
        "Shape = torch.Size([32, 32]) time = 4.289262048000012 seconds\n",
        "Shape = torch.Size([64, 64]) time = 10.598849075999965 seconds\n",
        "Shape = torch.Size([128, 128]) time = 77.04188489300003 seconds\n",
        "Shape = torch.Size([256, 256]) time = 469.70090312400004 seconds\n",
        "\"\"\""
      ]
    },
    {
      "cell_type": "markdown",
      "metadata": {
        "id": "HlGcL1TGhJws"
      },
      "source": [
        "# There are m * n * p calculations in a matrix multiplication.\n",
        "# The 128*128 matrix multiplied by itself was 128^3 calculations.\n",
        "# Similarly, the 256*256 matrix multiplied by itself was 256^3 calculations.\n",
        "# That's a factor of 8x. The time taken has gone from 77 seconds to 469 seconds, also a factor of almost 8x. So the GPU is at full capacity, and will take another 50 ish minutes to get the next answer. And then 7 hours for the next one, and so on. These numbers are significantly better than those on the CPU."
      ]
    },
    {
      "cell_type": "code",
      "execution_count": 44,
      "metadata": {
        "id": "dx3W8yIpT5t7"
      },
      "outputs": [],
      "source": [
        "# 4. Approximate a complex function with gradient descent.\n",
        "def complex_f1(x):\n",
        "  return torch.sin(x-2)*((x+2)**2) + torch.sqrt(torch.abs(torch.cos(x)))"
      ]
    },
    {
      "cell_type": "code",
      "execution_count": 45,
      "metadata": {
        "colab": {
          "base_uri": "https://localhost:8080/"
        },
        "id": "Vcgg_HvMXB4A",
        "outputId": "1cdcd6e9-c442-449c-b4d8-594fdde044e1"
      },
      "outputs": [
        {
          "name": "stdout",
          "output_type": "stream",
          "text": [
            "tensor(-2.6372)\n",
            "tensor(-6.8382)\n",
            "tensor(143.3836)\n",
            "tensor(-858897.7500)\n",
            "tensor(0.5939)\n",
            "tensor(35.2567)\n",
            "tensor(-166597.4062)\n"
          ]
        }
      ],
      "source": [
        "print(complex_f1(torch.tensor(0)))\n",
        "print(complex_f1(torch.tensor(1)))\n",
        "print(complex_f1(torch.tensor(10)))\n",
        "print(complex_f1(torch.tensor(1000)))\n",
        "print(complex_f1(torch.tensor(-1)))\n",
        "print(complex_f1(torch.tensor(-10)))\n",
        "print(complex_f1(torch.tensor(-1000)))"
      ]
    },
    {
      "cell_type": "code",
      "execution_count": 66,
      "metadata": {
        "id": "oqxTBelsXfNG"
      },
      "outputs": [],
      "source": [
        "x_param = torch.nn.Parameter(torch.tensor([2.5]), requires_grad=True)\n",
        "optimizer = torch.optim.SGD(params=[x_param], lr=0.01)"
      ]
    },
    {
      "cell_type": "code",
      "execution_count": 67,
      "metadata": {
        "colab": {
          "base_uri": "https://localhost:8080/"
        },
        "id": "DWuiBtolSbrS",
        "outputId": "332728ce-4d62-410a-e049-8ac93a046669"
      },
      "outputs": [
        {
          "name": "stdout",
          "output_type": "stream",
          "text": [
            "Type of loss incurred = <class 'torch.Tensor'>\n",
            "Epoch 0: tensor([2.2758]), output = tensor([10.6034])\n",
            "Epoch 10: tensor([1.2770]), output = tensor([-6.4669])\n",
            "Epoch 20: tensor([1.1172]), output = tensor([-6.8389])\n",
            "Epoch 30: tensor([1.0777]), output = tensor([-6.8609])\n"
          ]
        }
      ],
      "source": [
        "num_epochs = 31\n",
        "param_updates = []\n",
        "for epoch in range(num_epochs):\n",
        "  optimizer.zero_grad()\n",
        "  loss_incurred = complex_f1(x_param)\n",
        "  if epoch == 0:\n",
        "    print(f\"Type of loss incurred = {type(loss_incurred)}\")\n",
        "  loss_incurred.backward()\n",
        "  optimizer.step() # this means the parameters would get updated using the learning rate and gradient.\n",
        "  param_updates.append(x_param.data.item())\n",
        "  if epoch %10 == 0:\n",
        "    print(f\"Epoch {epoch}: {x_param.data}, output = {loss_incurred.data}\")"
      ]
    },
    {
      "cell_type": "code",
      "execution_count": 51,
      "metadata": {
        "id": "MOcBeznSXWki"
      },
      "outputs": [],
      "source": [
        "# 5. Approximate a complex function with gradient descent.\n",
        "def complex_f2(x, y):\n",
        "  return (torch.pow(torch.e, torch.pow(torch.sin(x), 2)) / torch.pow((x-y), 2) ) + torch.pow((x-y), 2)\n",
        "complex_f2(torch.tensor(0.2), torch.tensor(10.0))"
      ]
    },
    {
      "cell_type": "code",
      "execution_count": 69,
      "metadata": {
        "colab": {
          "base_uri": "https://localhost:8080/"
        },
        "id": "SISmtA-la7sG",
        "outputId": "b0c53cec-442b-4d66-c850-76948239872d"
      },
      "outputs": [
        {
          "name": "stdout",
          "output_type": "stream",
          "text": [
            "Type of loss incurred = <class 'torch.Tensor'>\n",
            "0: tensor([2.1594]) tensor([8.0402])\n",
            "10: tensor([4.1047]) tensor([5.3735])\n",
            "20: tensor([3.6490]) tensor([4.7758])\n",
            "30: tensor([3.3684]) tensor([4.4118])\n",
            "40: tensor([3.2335]) tensor([4.2479])\n",
            "50: tensor([3.1770]) tensor([4.1821])\n",
            "CPU times: user 14.9 ms, sys: 1.54 ms, total: 16.4 ms\n",
            "Wall time: 15.6 ms\n"
          ]
        }
      ],
      "source": [
        "x_param = torch.nn.Parameter(torch.tensor([0.2]), requires_grad=True)\n",
        "y_param = torch.nn.Parameter(torch.tensor([10.0]), requires_grad=True)\n",
        "optimizer = torch.optim.SGD(params=[x_param, y_param], lr=eta)\n",
        "\n",
        "num_epochs = 60\n",
        "param_updates = []\n",
        "for epoch in range(num_epochs):\n",
        "  optimizer.zero_grad()\n",
        "  loss_incurred = complex_f2(x_param, y_param)\n",
        "  if epoch == 0:\n",
        "    print(f\"Type of loss incurred = {type(loss_incurred)}\")\n",
        "  loss_incurred.backward()\n",
        "  optimizer.step() # this means the parameters would get updated using the learning rate and gradient.\n",
        "  param_updates.append((x_param.data.item(), y_param.data.item()))\n",
        "  if epoch %10 == 0:\n",
        "    print(f\"{epoch}: {x_param.data} {y_param.data}\")"
      ]
    },
    {
      "cell_type": "code",
      "execution_count": null,
      "metadata": {},
      "outputs": [],
      "source": []
    },
    {
      "cell_type": "code",
      "execution_count": 116,
      "metadata": {
        "id": "dmpfaBmebwtt"
      },
      "outputs": [],
      "source": [
        "# 6. Create a function libsvm2Dataset that takes a path to a libsvm dataset file \n",
        "# (see https://www.csie.ntu.edu.tw/~cjlin/libsvmtools/datasets/ for many that you can download)\n",
        "#  and creates a new dataset object. Check that is has the correct length, and that each row has the expected number of features.\n",
        "\n",
        "class LibsvmDataset(Dataset):\n",
        "  def __init__(self, X, y, max_features):\n",
        "    super(LibsvmDataset, self).__init__()\n",
        "    self.X = X\n",
        "    self.y = y\n",
        "    self.max_features = max_features\n",
        "\n",
        "  def __getitem__(self, index):\n",
        "    x_dict = self.X.get(index)\n",
        "    input_list = []\n",
        "    for i in range(1, self.max_features+1):\n",
        "      input_list.append(x_dict.get(i))\n",
        "    print(f\"Input list at index {index} = {input_list}\")\n",
        "    inputs = torch.tensor(input_list, dtype=torch.float32)\n",
        "    targets = torch.tensor(int(self.y[index]), dtype=torch.int64)\n",
        "    return inputs, targets\n",
        "\n",
        "  def __len__(self):\n",
        "    return len(self.X)\n",
        "    "
      ]
    },
    {
      "cell_type": "code",
      "execution_count": null,
      "metadata": {},
      "outputs": [],
      "source": []
    },
    {
      "cell_type": "code",
      "execution_count": null,
      "metadata": {},
      "outputs": [],
      "source": []
    },
    {
      "cell_type": "code",
      "execution_count": 123,
      "metadata": {},
      "outputs": [],
      "source": [
        "def libsvm2Dataset(svmpath):\n",
        "    id_map = {}\n",
        "    y_map = {}\n",
        "    x_map = {}\n",
        "    id = 0\n",
        "\n",
        "    max_features = 0 \n",
        "\n",
        "    with open(svmpath, \"r\") as ip:\n",
        "        for instance in ip:\n",
        "            words = instance.strip().split(\" \")\n",
        "            # print(words)\n",
        "            y_map[id] = words[0]\n",
        "            feature_dict = {}\n",
        "            for feature in words[1:]:\n",
        "                idx, f = feature.split(\":\")\n",
        "                feature_dict[int(idx)] = float(f)\n",
        "            x_map[id] = feature_dict\n",
        "            max_features = max(max_features, len(words[1:]))\n",
        "            id += 1\n",
        "    # print(f\"{x_map} \")\n",
        "    dataset: LibsvmDataset = LibsvmDataset(x_map, y_map, max_features)\n",
        "    return dataset\n",
        "\n",
        "ds = libsvm2Dataset(\"/Users/karanmatnani/Downloads/heart.tsv\")\n",
        "print(f\"Size of dataset = {ds.__len__()}\")\n",
        "ds.__getitem__(1)"
      ]
    },
    {
      "cell_type": "code",
      "execution_count": null,
      "metadata": {},
      "outputs": [],
      "source": [
        "# 7. memmap\n",
        "\n"
      ]
    }
  ],
  "metadata": {
    "accelerator": "GPU",
    "colab": {
      "authorship_tag": "ABX9TyNfgLSy1omk6EyV4voGPidp",
      "collapsed_sections": [],
      "include_colab_link": true,
      "name": "InsideDL_chap_1.ipynb",
      "provenance": []
    },
    "kernelspec": {
      "display_name": "Python 3",
      "name": "python3"
    },
    "language_info": {
      "codemirror_mode": {
        "name": "ipython",
        "version": 3
      },
      "file_extension": ".py",
      "mimetype": "text/x-python",
      "name": "python",
      "nbconvert_exporter": "python",
      "pygments_lexer": "ipython3",
      "version": "3.7.11"
    }
  },
  "nbformat": 4,
  "nbformat_minor": 0
}
