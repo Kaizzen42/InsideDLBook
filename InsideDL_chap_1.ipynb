{
  "nbformat": 4,
  "nbformat_minor": 0,
  "metadata": {
    "colab": {
      "name": "InsideDL_chap_1.ipynb",
      "provenance": [],
      "collapsed_sections": [],
      "authorship_tag": "ABX9TyOu36V1YR7ZGju2bnbZDUeS",
      "include_colab_link": true
    },
    "kernelspec": {
      "name": "python3",
      "display_name": "Python 3"
    },
    "language_info": {
      "name": "python"
    },
    "accelerator": "GPU"
  },
  "cells": [
    {
      "cell_type": "markdown",
      "metadata": {
        "id": "view-in-github",
        "colab_type": "text"
      },
      "source": [
        "<a href=\"https://colab.research.google.com/github/Kaizzen42/InsideDLBook/blob/main/InsideDL_chap_1.ipynb\" target=\"_parent\"><img src=\"https://colab.research.google.com/assets/colab-badge.svg\" alt=\"Open In Colab\"/></a>"
      ]
    },
    {
      "cell_type": "code",
      "execution_count": 3,
      "metadata": {
        "colab": {
          "base_uri": "https://localhost:8080/"
        },
        "id": "SqZf2TnUAwcS",
        "outputId": "d335ea32-20b4-4501-9b78-266fd21a92bb"
      },
      "outputs": [
        {
          "output_type": "stream",
          "name": "stderr",
          "text": [
            "/usr/local/lib/python3.7/dist-packages/ipykernel_launcher.py:4: TqdmExperimentalWarning: Using `tqdm.autonotebook.tqdm` in notebook mode. Use `tqdm.tqdm` instead to force console mode (e.g. in jupyter console)\n",
            "  after removing the cwd from sys.path.\n"
          ]
        }
      ],
      "source": [
        "import seaborn as sns\n",
        "import matplotlib.pyplot as plt\n",
        "import numpy as np\n",
        "from tqdm.autonotebook import tqdm\n",
        "import pandas as pd"
      ]
    },
    {
      "cell_type": "code",
      "source": [
        "import torch\n"
      ],
      "metadata": {
        "id": "RsBqtlGrA0_T"
      },
      "execution_count": 4,
      "outputs": []
    },
    {
      "cell_type": "code",
      "source": [
        "torch_scalar = torch.tensor(3.14)\n",
        "torch_vector = torch.tensor([4,5,6,7])\n",
        "torch_matrix = torch.tensor([[1,2,3], [4,5,6], [7,8,9], [10,11,12]])\n",
        "torch_tensor3d = torch.tensor([[[11,12,13], [21,22,23]], [[41,42,43],[51,52,53]]])"
      ],
      "metadata": {
        "id": "JfNTV1AfCe76"
      },
      "execution_count": 5,
      "outputs": []
    },
    {
      "cell_type": "code",
      "source": [
        "print(torch_scalar.shape)\n",
        "print(torch_vector.shape)\n",
        "print(torch_matrix.shape)\n",
        "print(torch_tensor3d.shape)\n",
        "# To get the value of a number from a tensor, use the item function\n",
        "print(f\"\\n{torch_scalar.item()}\")"
      ],
      "metadata": {
        "colab": {
          "base_uri": "https://localhost:8080/"
        },
        "id": "A7KxM9J1DLB7",
        "outputId": "98778d7a-11cd-45ac-acf9-4cf5a3ca4cc2"
      },
      "execution_count": 6,
      "outputs": [
        {
          "output_type": "stream",
          "name": "stdout",
          "text": [
            "torch.Size([])\n",
            "torch.Size([4])\n",
            "torch.Size([4, 3])\n",
            "torch.Size([2, 2, 3])\n",
            "\n",
            "3.140000104904175\n"
          ]
        }
      ]
    },
    {
      "cell_type": "code",
      "source": [
        "x_np = np.random.random((4,4))\n",
        "print(x_np)\n",
        "print(x_np.shape)\n",
        "x_pt = torch.tensor(x_np)\n",
        "print(x_pt)\n",
        "print(x_pt.shape)"
      ],
      "metadata": {
        "colab": {
          "base_uri": "https://localhost:8080/"
        },
        "id": "SZsMMT9uDPZZ",
        "outputId": "68788f69-1553-44a0-c1e5-c380793b301f"
      },
      "execution_count": 7,
      "outputs": [
        {
          "output_type": "stream",
          "name": "stdout",
          "text": [
            "[[0.86297053 0.76624405 0.41167959 0.32637273]\n",
            " [0.44151968 0.31696295 0.98646988 0.13008474]\n",
            " [0.04645768 0.30250799 0.93234104 0.04627548]\n",
            " [0.45831876 0.99485232 0.26038648 0.83495306]]\n",
            "(4, 4)\n",
            "tensor([[0.8630, 0.7662, 0.4117, 0.3264],\n",
            "        [0.4415, 0.3170, 0.9865, 0.1301],\n",
            "        [0.0465, 0.3025, 0.9323, 0.0463],\n",
            "        [0.4583, 0.9949, 0.2604, 0.8350]], dtype=torch.float64)\n",
            "torch.Size([4, 4])\n"
          ]
        }
      ]
    },
    {
      "cell_type": "code",
      "source": [
        "print(x_np.dtype, x_pt.dtype)"
      ],
      "metadata": {
        "colab": {
          "base_uri": "https://localhost:8080/"
        },
        "id": "LiDMyEOsEgPU",
        "outputId": "67ae2d21-e8d1-4c88-bf39-d3fdadad879b"
      },
      "execution_count": null,
      "outputs": [
        {
          "output_type": "stream",
          "name": "stdout",
          "text": [
            "float64 torch.float64\n"
          ]
        }
      ]
    },
    {
      "cell_type": "code",
      "source": [
        "x_np_32 = np.asarray(x_np, dtype=np.float32)\n",
        "x_pt_32 = torch.tensor(x_np_32, dtype=torch.float32)\n",
        "print(x_np_32, x_pt_32)"
      ],
      "metadata": {
        "colab": {
          "base_uri": "https://localhost:8080/"
        },
        "id": "tFnO14RBGioT",
        "outputId": "48fedc07-b655-41e1-dc7f-cc668ab5f020"
      },
      "execution_count": null,
      "outputs": [
        {
          "output_type": "stream",
          "name": "stdout",
          "text": [
            "[[4.1151717e-01 4.6934077e-01 2.1388388e-01 9.2504072e-01]\n",
            " [3.5039705e-01 5.9351414e-01 8.0826998e-01 3.0356187e-01]\n",
            " [8.3588886e-01 8.0560887e-05 8.2838225e-01 6.9451237e-01]\n",
            " [3.4332335e-01 6.2643468e-01 9.0887529e-01 7.1360528e-01]] tensor([[4.1152e-01, 4.6934e-01, 2.1388e-01, 9.2504e-01],\n",
            "        [3.5040e-01, 5.9351e-01, 8.0827e-01, 3.0356e-01],\n",
            "        [8.3589e-01, 8.0561e-05, 8.2838e-01, 6.9451e-01],\n",
            "        [3.4332e-01, 6.2643e-01, 9.0888e-01, 7.1361e-01]])\n"
          ]
        }
      ]
    },
    {
      "cell_type": "code",
      "source": [
        "print(torch_tensor3d)\n",
        "torch_tensor3d_t = torch.transpose(torch_tensor3d, 0, 2)\n",
        "print(torch_tensor3d_t.shape)\n",
        "print(torch_tensor3d_t)"
      ],
      "metadata": {
        "colab": {
          "base_uri": "https://localhost:8080/"
        },
        "id": "Ynmj9kycG9ft",
        "outputId": "b4d41c8b-448b-4cc5-d3b4-90fd70acd38f"
      },
      "execution_count": null,
      "outputs": [
        {
          "output_type": "stream",
          "name": "stdout",
          "text": [
            "tensor([[[11, 12, 13],\n",
            "         [21, 22, 23]],\n",
            "\n",
            "        [[41, 42, 43],\n",
            "         [51, 52, 53]]])\n",
            "torch.Size([3, 2, 2])\n",
            "tensor([[[11, 41],\n",
            "         [21, 51]],\n",
            "\n",
            "        [[12, 42],\n",
            "         [22, 52]],\n",
            "\n",
            "        [[13, 43],\n",
            "         [23, 53]]])\n"
          ]
        }
      ]
    },
    {
      "cell_type": "code",
      "source": [
        "import timeit\n",
        "x = torch.rand(2**11, 2**11)\n",
        "print(x.shape)"
      ],
      "metadata": {
        "colab": {
          "base_uri": "https://localhost:8080/"
        },
        "id": "EhLfQ82cH-vV",
        "outputId": "09a8a424-1c7b-4eff-b057-492bef252a03"
      },
      "execution_count": null,
      "outputs": [
        {
          "output_type": "stream",
          "name": "stdout",
          "text": [
            "torch.Size([2048, 2048])\n"
          ]
        }
      ]
    },
    {
      "cell_type": "code",
      "source": [
        "x[0,0]"
      ],
      "metadata": {
        "colab": {
          "base_uri": "https://localhost:8080/"
        },
        "id": "yRtLLFyUJXl-",
        "outputId": "c570a14f-3704-4260-9a7d-35f553f2af1b"
      },
      "execution_count": null,
      "outputs": [
        {
          "output_type": "execute_result",
          "data": {
            "text/plain": [
              "tensor(0.6696)"
            ]
          },
          "metadata": {},
          "execution_count": 10
        }
      ]
    },
    {
      "cell_type": "code",
      "source": [
        "x[0,:]"
      ],
      "metadata": {
        "colab": {
          "base_uri": "https://localhost:8080/"
        },
        "id": "8EcEv6TCJdxL",
        "outputId": "be8b1b4c-a25e-4818-f284-d9f467f88521"
      },
      "execution_count": null,
      "outputs": [
        {
          "output_type": "execute_result",
          "data": {
            "text/plain": [
              "tensor([0.6696, 0.4970, 0.6232,  ..., 0.3375, 0.0344, 0.7150])"
            ]
          },
          "metadata": {},
          "execution_count": 11
        }
      ]
    },
    {
      "cell_type": "code",
      "source": [
        "x[:,0]"
      ],
      "metadata": {
        "colab": {
          "base_uri": "https://localhost:8080/"
        },
        "id": "SDv4pFcdJfQF",
        "outputId": "936265c1-ccf0-461d-9be7-5ffd65ed1e19"
      },
      "execution_count": null,
      "outputs": [
        {
          "output_type": "execute_result",
          "data": {
            "text/plain": [
              "tensor([0.6696, 0.4741, 0.0901,  ..., 0.5055, 0.5008, 0.3552])"
            ]
          },
          "metadata": {},
          "execution_count": 12
        }
      ]
    },
    {
      "cell_type": "code",
      "source": [
        "time_cpu = timeit.timeit(\"x@x\", globals=globals(), number=100)"
      ],
      "metadata": {
        "id": "iXqQxor9JgxQ"
      },
      "execution_count": null,
      "outputs": []
    },
    {
      "cell_type": "code",
      "source": [
        "time_cpu"
      ],
      "metadata": {
        "colab": {
          "base_uri": "https://localhost:8080/"
        },
        "id": "2mF0Hhs-Jupy",
        "outputId": "f44c73ba-6536-496e-e405-b77e8260be57"
      },
      "execution_count": null,
      "outputs": [
        {
          "output_type": "execute_result",
          "data": {
            "text/plain": [
              "74.55946267500002"
            ]
          },
          "metadata": {},
          "execution_count": 14
        }
      ]
    },
    {
      "cell_type": "code",
      "source": [
        "# current_device = torch.cuda.get_device_name()\n",
        "# print(f\"Current device = {current_device}\")\n",
        "\n",
        "# gpu_Available = torch.cuda.is_available()\n",
        "# print(\"Is CUDA available? :\", gpu_Available)\n",
        "\n",
        "# if gpu_Available:\n",
        "#   device = torch.device(\"cuda\")\n",
        "# else:\n",
        "#   device = current_device\n",
        "device = torch.device(\"cuda:0\" if torch.cuda.is_available() else \"cpu\")\n",
        "print(f\"Using device {device}\")"
      ],
      "metadata": {
        "id": "BJy91jtpJves"
      },
      "execution_count": null,
      "outputs": []
    },
    {
      "cell_type": "code",
      "source": [
        "x = x.to(device)\n",
        "time_gpu = timeit.timeit(\"x@x\", globals=globals(), number=100)\n",
        "time_gpu"
      ],
      "metadata": {
        "colab": {
          "base_uri": "https://localhost:8080/"
        },
        "id": "qwBmSLhGKHA3",
        "outputId": "9c51ced2-2d5e-4ce4-91a1-7b4918da513f"
      },
      "execution_count": null,
      "outputs": [
        {
          "output_type": "execute_result",
          "data": {
            "text/plain": [
              "74.11346212500007"
            ]
          },
          "metadata": {},
          "execution_count": 19
        }
      ]
    },
    {
      "cell_type": "code",
      "source": [
        "def moveTo(obj, device):\n",
        "    \"\"\"\n",
        "    obj: the python object to move to a device, or to move\n",
        "    its contents to a device\n",
        "    device: the compute device to move objects to\n",
        "    \"\"\"\n",
        "    if isinstance(obj, list):\n",
        "        return [moveTo(x, device) for x in obj]\n",
        "    elif isinstance(obj, tuple):\n",
        "        return tuple(moveTo(list(obj), device))\n",
        "    elif isinstance(obj, set):\n",
        "        return set(moveTo(list(obj), device))\n",
        "    elif isinstance(obj, dict):\n",
        "        to_ret = dict()\n",
        "        for key, value in obj.items():\n",
        "            to_ret[moveTo(key, device)] = moveTo(value, device)\n",
        "        return to_ret\n",
        "    elif hasattr(obj, \"to\"):\n",
        "        return obj.to(device)\n",
        "    else:\n",
        "        return obj\n",
        "    \n",
        "some_tensors = [torch.tensor(1), torch.tensor(2)]\n",
        "print(some_tensors)\n",
        "print(moveTo(some_tensors, device))\n"
      ],
      "metadata": {
        "colab": {
          "base_uri": "https://localhost:8080/"
        },
        "id": "swYfTz7kKdqH",
        "outputId": "d1dff71a-3941-4e7e-bfe2-990f31a6b117"
      },
      "execution_count": null,
      "outputs": [
        {
          "output_type": "stream",
          "name": "stdout",
          "text": [
            "[tensor(1), tensor(2)]\n",
            "[tensor(1), tensor(2)]\n"
          ]
        }
      ]
    },
    {
      "cell_type": "code",
      "source": [
        "def x_minus2_sq(x):\n",
        "  return torch.pow((x-2.0), 2)\n",
        "\n",
        "x_axis_vals = np.linspace(-7,9,1000)\n",
        "y_axis_vals = x_minus2_sq(torch.tensor(x_axis_vals)).numpy()\n",
        "\n",
        "sns.lineplot(x=x_axis_vals, y=y_axis_vals, label=\"$x_minus2_sq(x)=(x-2)^2$\")\n"
      ],
      "metadata": {
        "colab": {
          "base_uri": "https://localhost:8080/",
          "height": 283
        },
        "id": "KUj1eRJfLFY1",
        "outputId": "58ad7e63-0967-4f9d-ce9c-e062791baf7e"
      },
      "execution_count": null,
      "outputs": [
        {
          "output_type": "execute_result",
          "data": {
            "text/plain": [
              "<matplotlib.axes._subplots.AxesSubplot at 0x7f9573267f10>"
            ]
          },
          "metadata": {},
          "execution_count": 122
        },
        {
          "output_type": "display_data",
          "data": {
            "image/png": "[encoded data removed]",
            "text/plain": [
              "<Figure size 432x288 with 1 Axes>"
            ]
          },
          "metadata": {
            "needs_background": "light"
          }
        }
      ]
    },
    {
      "cell_type": "code",
      "source": [
        "def x_minus2_sq_P(x):\n",
        "  return 2*x-4.0\n",
        "\n",
        "y_axis_vals_p = x_minus2_sq_P(torch.tensor(x_axis_vals)).numpy()\n",
        "#First, lets draw a black line at 0, so that we can easily\n",
        "# tell if something is positive or negative\n",
        "sns.lineplot(x=x_axis_vals, y=[0.0]*len(x_axis_vals),\n",
        "label=\"0\", color='black')\n",
        "sns.lineplot(x=x_axis_vals, y=y_axis_vals,\n",
        "label='$f(x) = (x-2)^2$')\n",
        "sns.lineplot(x=x_axis_vals, y=y_axis_vals_p,\n",
        "label=\"$f’(x)=2 x - 4$\")"
      ],
      "metadata": {
        "colab": {
          "base_uri": "https://localhost:8080/",
          "height": 283
        },
        "id": "bEl_2MSAbJ9H",
        "outputId": "8b51f6ce-b9fb-4431-918a-ea1da1e26cff"
      },
      "execution_count": null,
      "outputs": [
        {
          "output_type": "execute_result",
          "data": {
            "text/plain": [
              "<matplotlib.axes._subplots.AxesSubplot at 0x7f9566f9a810>"
            ]
          },
          "metadata": {},
          "execution_count": 123
        },
        {
          "output_type": "display_data",
          "data": {
            "image/png": "[encoded data removed]",
            "text/plain": [
              "<Figure size 432x288 with 1 Axes>"
            ]
          },
          "metadata": {
            "needs_background": "light"
          }
        }
      ]
    },
    {
      "cell_type": "code",
      "source": [
        "x = torch.tensor([-3.5], requires_grad=True)\n",
        " \n",
        "x_cur = x.clone()\n",
        "x_prev = x_cur*100 #Make the initial \"previous\" solution larger\n",
        "epsilon = 1e-5\n",
        "eta = 0.1\n",
        " \n",
        "while torch.linalg.norm(x_cur-x_prev) > epsilon:\n",
        "    x_prev = x_cur.clone() #We need to make a clone here so that\n",
        "    #x_prev and x_cur don't point to the same object\n",
        "    \n",
        "    #Compute our function, gradient, and update\n",
        "    value = x_minus2_sq(x)\n",
        "    value.backward()\n",
        "    x.data -= eta * x.grad\n",
        "    x.grad.zero_() #We need to zero out the old gradient, as\n",
        "    #py-torch will not do that for us\n",
        "    \n",
        "    #What are we currently now?\n",
        "    x_cur = x.data\n",
        "    \n",
        "print(x_cur)\n"
      ],
      "metadata": {
        "colab": {
          "base_uri": "https://localhost:8080/"
        },
        "id": "NT65CAEUf6D8",
        "outputId": "b0420cd9-319d-419b-96d6-d18329968195"
      },
      "execution_count": null,
      "outputs": [
        {
          "output_type": "stream",
          "name": "stdout",
          "text": [
            "tensor([2.0000])\n"
          ]
        }
      ]
    },
    {
      "cell_type": "code",
      "source": [
        "x_param = torch.nn.Parameter(torch.tensor([-3.5]), requires_grad=True)\n",
        "optimizer = torch.optim.SGD(params=[x_param], lr=eta)"
      ],
      "metadata": {
        "id": "5Z-ckeo6kazz"
      },
      "execution_count": null,
      "outputs": []
    },
    {
      "cell_type": "code",
      "source": [
        "num_epochs = 61\n",
        "param_updates = []\n",
        "for epoch in range(num_epochs):\n",
        "  optimizer.zero_grad()\n",
        "  loss_incurred = x_minus2_sq(x_param)\n",
        "  if epoch == 0:\n",
        "    print(f\"Type of loss incurred = {type(loss_incurred)}\")\n",
        "  loss_incurred.backward()\n",
        "  optimizer.step() # this means the parameters would get updated using the learning rate and gradient.\n",
        "  param_updates.append(x_param.data.item())\n",
        "  if epoch %10 == 0:\n",
        "    print(f\"{epoch}: {x_param.data}\")"
      ],
      "metadata": {
        "colab": {
          "base_uri": "https://localhost:8080/"
        },
        "id": "I1GZJpz2dXgT",
        "outputId": "cd18d9fa-051a-4993-8f4d-6f64af9ddf4f"
      },
      "execution_count": null,
      "outputs": [
        {
          "output_type": "stream",
          "name": "stdout",
          "text": [
            "Type of loss incurred = <class 'torch.Tensor'>\n",
            "0: tensor([-2.4000])\n",
            "10: tensor([1.5276])\n",
            "20: tensor([1.9493])\n",
            "30: tensor([1.9946])\n",
            "40: tensor([1.9994])\n",
            "50: tensor([1.9999])\n",
            "60: tensor([2.0000])\n"
          ]
        }
      ]
    },
    {
      "cell_type": "code",
      "source": [
        "sns.lineplot(x=np.linspace(0,61,61), y=param_updates)"
      ],
      "metadata": {
        "colab": {
          "base_uri": "https://localhost:8080/",
          "height": 283
        },
        "id": "CUwvO8_IeeZS",
        "outputId": "4491855a-c467-4e49-832a-8b42de47eea0"
      },
      "execution_count": null,
      "outputs": [
        {
          "output_type": "execute_result",
          "data": {
            "text/plain": [
              "<matplotlib.axes._subplots.AxesSubplot at 0x7f959b3dcf10>"
            ]
          },
          "metadata": {},
          "execution_count": 77
        },
        {
          "output_type": "display_data",
          "data": {
            "image/png": "[encoded data removed]",
            "text/plain": [
              "<Figure size 432x288 with 1 Axes>"
            ]
          },
          "metadata": {
            "needs_background": "light"
          }
        }
      ]
    },
    {
      "cell_type": "code",
      "source": [
        "from torch.utils.data import Dataset\n",
        "from sklearn.datasets import fetch_openml\n",
        "\n",
        "# Loading the MNIST dataset\n",
        "\n",
        "\n",
        "X,y = fetch_openml('mnist_784', version=1, return_X_y=True)\n",
        "print(X.shape)"
      ],
      "metadata": {
        "colab": {
          "base_uri": "https://localhost:8080/"
        },
        "id": "PcQ3ZZByqWP4",
        "outputId": "da562df8-a10c-458c-a26b-e460504f0e44"
      },
      "execution_count": null,
      "outputs": [
        {
          "output_type": "stream",
          "name": "stdout",
          "text": [
            "(70000, 784)\n"
          ]
        }
      ]
    },
    {
      "cell_type": "code",
      "source": [
        "class SimpleDataset(Dataset):\n",
        "  def __init__(self, X, y):\n",
        "    super(SimpleDataset, self).__init__()\n",
        "    self.X = X\n",
        "    self.y = y\n",
        "\n",
        "  def __getitem__(self, index):\n",
        "    inputs = torch.tensor(self.X.iloc[index,:], dtype=torch.float32)\n",
        "    targets = torch.tensor(int(self.y[index]), dtype=torch.int64)\n",
        "    return inputs, targets\n",
        "\n",
        "  def __len__(self):\n",
        "    return self.X.shape[0]\n",
        "\n",
        "  "
      ],
      "metadata": {
        "id": "gBQW7fWSsKug"
      },
      "execution_count": null,
      "outputs": []
    },
    {
      "cell_type": "code",
      "source": [
        "dataset = SimpleDataset(X,y)"
      ],
      "metadata": {
        "id": "4ayHc_h6uCaz"
      },
      "execution_count": null,
      "outputs": []
    },
    {
      "cell_type": "code",
      "source": [
        "X.iloc[0,:]"
      ],
      "metadata": {
        "colab": {
          "base_uri": "https://localhost:8080/"
        },
        "id": "5qKt6HZVvw9C",
        "outputId": "5ef9e0f7-5e1e-4862-b40f-f69a2dab7719"
      },
      "execution_count": null,
      "outputs": [
        {
          "output_type": "execute_result",
          "data": {
            "text/plain": [
              "pixel1      0.0\n",
              "pixel2      0.0\n",
              "pixel3      0.0\n",
              "pixel4      0.0\n",
              "pixel5      0.0\n",
              "           ... \n",
              "pixel780    0.0\n",
              "pixel781    0.0\n",
              "pixel782    0.0\n",
              "pixel783    0.0\n",
              "pixel784    0.0\n",
              "Name: 0, Length: 784, dtype: float64"
            ]
          },
          "metadata": {},
          "execution_count": 101
        }
      ]
    },
    {
      "cell_type": "code",
      "source": [
        "print(\"Length: \", len(dataset))\n",
        "example, label = dataset.__getitem__(0)\n",
        "\n",
        "print(\"Features: \", example.shape) #Will return 784\n",
        "print(\"Label of index 0: \", label)\n"
      ],
      "metadata": {
        "colab": {
          "base_uri": "https://localhost:8080/"
        },
        "id": "wT-ZCbRBuEgP",
        "outputId": "d76f1697-25e9-4502-9b86-9daba0272086"
      },
      "execution_count": null,
      "outputs": [
        {
          "output_type": "stream",
          "name": "stdout",
          "text": [
            "Length:  70000\n",
            "Features:  torch.Size([784])\n",
            "Label of index 0:  tensor(5)\n"
          ]
        }
      ]
    },
    {
      "cell_type": "code",
      "source": [
        "plt.imshow(example.reshape((28,28)))"
      ],
      "metadata": {
        "colab": {
          "base_uri": "https://localhost:8080/",
          "height": 283
        },
        "id": "bNlJjpzauFeE",
        "outputId": "d1e840e8-1308-4c87-c79c-0182b873c0b5"
      },
      "execution_count": null,
      "outputs": [
        {
          "output_type": "execute_result",
          "data": {
            "text/plain": [
              "<matplotlib.image.AxesImage at 0x7f954cb7fe90>"
            ]
          },
          "metadata": {},
          "execution_count": 103
        },
        {
          "output_type": "display_data",
          "data": {
            "image/png": "[encoded data removed]",
            "text/plain": [
              "<Figure size 432x288 with 1 Axes>"
            ]
          },
          "metadata": {
            "needs_background": "light"
          }
        }
      ]
    },
    {
      "cell_type": "code",
      "source": [
        "train_size = int(len(dataset)*0.8)\n",
        "test_size = len(dataset)-train_size\n",
        " \n",
        "train_dataset, test_dataset = torch.utils.data.random_split(dataset, (train_size, test_size))\n",
        "print(\"{} examples for training and {} for testing\".format(len(train_dataset), len(test_dataset)))\n"
      ],
      "metadata": {
        "colab": {
          "base_uri": "https://localhost:8080/"
        },
        "id": "l4syPGnixgrq",
        "outputId": "c9c4c5c2-f465-46c9-a226-a8e562b944ce"
      },
      "execution_count": null,
      "outputs": [
        {
          "output_type": "stream",
          "name": "stdout",
          "text": [
            "56000 examples for training and 14000 for testing\n"
          ]
        }
      ]
    },
    {
      "cell_type": "code",
      "source": [
        ""
      ],
      "metadata": {
        "id": "lbxcqmu4xlo6"
      },
      "execution_count": null,
      "outputs": []
    },
    {
      "cell_type": "markdown",
      "source": [
        "Exercises begin here. https://livebook.manning.com/book/inside-deep-learning/chapter-1/v-10/point-14108-172-172-0 "
      ],
      "metadata": {
        "id": "TeIAHdE71cjR"
      }
    },
    {
      "cell_type": "code",
      "source": [
        "# 1. Write a series of for loops that compute the average value in torch_tensor3d\n",
        "print(torch_tensor3d)\n",
        "sum_3d = 0.0\n",
        "for b in range(torch_tensor3d.shape[0]):\n",
        "  for w in range(torch_tensor3d.shape[1]):\n",
        "    for h in range(torch_tensor3d.shape[2]):\n",
        "      sum_3d += torch_tensor3d[b][w][h]\n",
        "print(f\"Average = {sum_3d/torch_tensor3d.numel()}\")\n",
        "\n"
      ],
      "metadata": {
        "colab": {
          "base_uri": "https://localhost:8080/"
        },
        "id": "3WPNPx1D1it5",
        "outputId": "48aff54e-d9df-4d43-e86a-804f806a4f7a"
      },
      "execution_count": null,
      "outputs": [
        {
          "output_type": "stream",
          "name": "stdout",
          "text": [
            "tensor([[[11, 12, 13],\n",
            "         [21, 22, 23]],\n",
            "\n",
            "        [[41, 42, 43],\n",
            "         [51, 52, 53]]])\n",
            "Average = 32.0\n"
          ]
        }
      ]
    },
    {
      "cell_type": "code",
      "source": [
        "# 2. Write code that indexes into torch_tensor3d and prints out the value “13”.\n",
        "\n",
        "print(torch_tensor3d[0][0][2].item())\n"
      ],
      "metadata": {
        "colab": {
          "base_uri": "https://localhost:8080/"
        },
        "id": "2dImYW7K1oyz",
        "outputId": "ff15ebd8-f60b-443f-e554-358f7f26f51d"
      },
      "execution_count": null,
      "outputs": [
        {
          "output_type": "stream",
          "name": "stdout",
          "text": [
            "13\n"
          ]
        }
      ]
    },
    {
      "cell_type": "code",
      "source": [
        "# 3. For every power of 2 (i.e., i or 2**i ) up to 2^11, create a random matrix X ∈ ℝ2^i, \n",
        "# 2^i (i.e., X.shape should give (2**i, 2**i)). Time how long it takes to compute X X (i.e., X @ X) \n",
        "# on a CPU and on a GPU and plot the speedup. For what sized matrices is the CPU faster than the GPU?\n",
        "\n",
        "cpu_times = []\n",
        "for exp in range(11):\n",
        "  side = 2**exp\n",
        "  mat_x = torch.rand((side, side))\n",
        "  time_cpu = timeit.timeit(\"mat_x@mat_x\", globals=globals())\n",
        "  print(f\"Shape = {mat_x.shape} time = {time_cpu} seconds\")\n",
        "  cpu_times.append(time_cpu)"
      ],
      "metadata": {
        "colab": {
          "base_uri": "https://localhost:8080/",
          "height": 580
        },
        "id": "S7VNCHt82RmS",
        "outputId": "b8e31b9b-fa68-4da4-b2f1-7f1529cdefa1"
      },
      "execution_count": null,
      "outputs": [
        {
          "output_type": "stream",
          "name": "stdout",
          "text": [
            "Shape = torch.Size([1, 1]) time = 2.979190419999213 seconds\n",
            "Shape = torch.Size([2, 2]) time = 3.1341822079994017 seconds\n",
            "Shape = torch.Size([4, 4]) time = 3.173355848997744 seconds\n",
            "Shape = torch.Size([8, 8]) time = 3.487799227001233 seconds\n",
            "Shape = torch.Size([16, 16]) time = 4.030215064998629 seconds\n",
            "Shape = torch.Size([32, 32]) time = 7.503608662998886 seconds\n",
            "Shape = torch.Size([64, 64]) time = 29.172384212997713 seconds\n",
            "Shape = torch.Size([128, 128]) time = 201.93375202100287 seconds\n"
          ]
        },
        {
          "output_type": "error",
          "ename": "KeyboardInterrupt",
          "evalue": "ignored",
          "traceback": [
            "\u001b[0;31m---------------------------------------------------------------------------\u001b[0m",
            "\u001b[0;31mKeyboardInterrupt\u001b[0m                         Traceback (most recent call last)",
            "\u001b[0;32m<ipython-input-126-5fd85ef48be4>\u001b[0m in \u001b[0;36m<module>\u001b[0;34m()\u001b[0m\n\u001b[1;32m      7\u001b[0m   \u001b[0mside\u001b[0m \u001b[0;34m=\u001b[0m \u001b[0;36m2\u001b[0m\u001b[0;34m**\u001b[0m\u001b[0mexp\u001b[0m\u001b[0;34m\u001b[0m\u001b[0;34m\u001b[0m\u001b[0m\n\u001b[1;32m      8\u001b[0m   \u001b[0mmat_x\u001b[0m \u001b[0;34m=\u001b[0m \u001b[0mtorch\u001b[0m\u001b[0;34m.\u001b[0m\u001b[0mrand\u001b[0m\u001b[0;34m(\u001b[0m\u001b[0;34m(\u001b[0m\u001b[0mside\u001b[0m\u001b[0;34m,\u001b[0m \u001b[0mside\u001b[0m\u001b[0;34m)\u001b[0m\u001b[0;34m)\u001b[0m\u001b[0;34m\u001b[0m\u001b[0;34m\u001b[0m\u001b[0m\n\u001b[0;32m----> 9\u001b[0;31m   \u001b[0mtime_cpu\u001b[0m \u001b[0;34m=\u001b[0m \u001b[0mtimeit\u001b[0m\u001b[0;34m.\u001b[0m\u001b[0mtimeit\u001b[0m\u001b[0;34m(\u001b[0m\u001b[0;34m\"mat_x@mat_x\"\u001b[0m\u001b[0;34m,\u001b[0m \u001b[0mglobals\u001b[0m\u001b[0;34m=\u001b[0m\u001b[0mglobals\u001b[0m\u001b[0;34m(\u001b[0m\u001b[0;34m)\u001b[0m\u001b[0;34m)\u001b[0m\u001b[0;34m\u001b[0m\u001b[0;34m\u001b[0m\u001b[0m\n\u001b[0m\u001b[1;32m     10\u001b[0m   \u001b[0mprint\u001b[0m\u001b[0;34m(\u001b[0m\u001b[0;34mf\"Shape = {mat_x.shape} time = {time_cpu} seconds\"\u001b[0m\u001b[0;34m)\u001b[0m\u001b[0;34m\u001b[0m\u001b[0;34m\u001b[0m\u001b[0m\n\u001b[1;32m     11\u001b[0m   \u001b[0mcpu_times\u001b[0m\u001b[0;34m.\u001b[0m\u001b[0mappend\u001b[0m\u001b[0;34m(\u001b[0m\u001b[0mtime_cpu\u001b[0m\u001b[0;34m)\u001b[0m\u001b[0;34m\u001b[0m\u001b[0;34m\u001b[0m\u001b[0m\n",
            "\u001b[0;32m/usr/lib/python3.7/timeit.py\u001b[0m in \u001b[0;36mtimeit\u001b[0;34m(stmt, setup, timer, number, globals)\u001b[0m\n\u001b[1;32m    231\u001b[0m            number=default_number, globals=None):\n\u001b[1;32m    232\u001b[0m     \u001b[0;34m\"\"\"Convenience function to create Timer object and call timeit method.\"\"\"\u001b[0m\u001b[0;34m\u001b[0m\u001b[0;34m\u001b[0m\u001b[0m\n\u001b[0;32m--> 233\u001b[0;31m     \u001b[0;32mreturn\u001b[0m \u001b[0mTimer\u001b[0m\u001b[0;34m(\u001b[0m\u001b[0mstmt\u001b[0m\u001b[0;34m,\u001b[0m \u001b[0msetup\u001b[0m\u001b[0;34m,\u001b[0m \u001b[0mtimer\u001b[0m\u001b[0;34m,\u001b[0m \u001b[0mglobals\u001b[0m\u001b[0;34m)\u001b[0m\u001b[0;34m.\u001b[0m\u001b[0mtimeit\u001b[0m\u001b[0;34m(\u001b[0m\u001b[0mnumber\u001b[0m\u001b[0;34m)\u001b[0m\u001b[0;34m\u001b[0m\u001b[0;34m\u001b[0m\u001b[0m\n\u001b[0m\u001b[1;32m    234\u001b[0m \u001b[0;34m\u001b[0m\u001b[0m\n\u001b[1;32m    235\u001b[0m def repeat(stmt=\"pass\", setup=\"pass\", timer=default_timer,\n",
            "\u001b[0;32m/usr/lib/python3.7/timeit.py\u001b[0m in \u001b[0;36mtimeit\u001b[0;34m(self, number)\u001b[0m\n\u001b[1;32m    175\u001b[0m         \u001b[0mgc\u001b[0m\u001b[0;34m.\u001b[0m\u001b[0mdisable\u001b[0m\u001b[0;34m(\u001b[0m\u001b[0;34m)\u001b[0m\u001b[0;34m\u001b[0m\u001b[0;34m\u001b[0m\u001b[0m\n\u001b[1;32m    176\u001b[0m         \u001b[0;32mtry\u001b[0m\u001b[0;34m:\u001b[0m\u001b[0;34m\u001b[0m\u001b[0;34m\u001b[0m\u001b[0m\n\u001b[0;32m--> 177\u001b[0;31m             \u001b[0mtiming\u001b[0m \u001b[0;34m=\u001b[0m \u001b[0mself\u001b[0m\u001b[0;34m.\u001b[0m\u001b[0minner\u001b[0m\u001b[0;34m(\u001b[0m\u001b[0mit\u001b[0m\u001b[0;34m,\u001b[0m \u001b[0mself\u001b[0m\u001b[0;34m.\u001b[0m\u001b[0mtimer\u001b[0m\u001b[0;34m)\u001b[0m\u001b[0;34m\u001b[0m\u001b[0;34m\u001b[0m\u001b[0m\n\u001b[0m\u001b[1;32m    178\u001b[0m         \u001b[0;32mfinally\u001b[0m\u001b[0;34m:\u001b[0m\u001b[0;34m\u001b[0m\u001b[0;34m\u001b[0m\u001b[0m\n\u001b[1;32m    179\u001b[0m             \u001b[0;32mif\u001b[0m \u001b[0mgcold\u001b[0m\u001b[0;34m:\u001b[0m\u001b[0;34m\u001b[0m\u001b[0;34m\u001b[0m\u001b[0m\n",
            "\u001b[0;32m<timeit-src>\u001b[0m in \u001b[0;36minner\u001b[0;34m(_it, _timer)\u001b[0m\n",
            "\u001b[0;31mKeyboardInterrupt\u001b[0m: "
          ]
        }
      ]
    },
    {
      "cell_type": "code",
      "source": [
        ""
      ],
      "metadata": {
        "id": "FVGMfwf_jizx"
      },
      "execution_count": null,
      "outputs": []
    },
    {
      "cell_type": "code",
      "source": [
        "\n",
        "# 3. For every power of 2 (i.e., i or 2**i ) up to 2^11, create a random matrix X ∈ ℝ2^i, \n",
        "# 2^i (i.e., X.shape should give (2**i, 2**i)). Time how long it takes to compute X X (i.e., X @ X) \n",
        "# on a CPU and on a GPU and plot the speedup. For what sized matrices is the CPU faster than the GPU?\n",
        "\n",
        "gpu_times = []\n",
        "for exp in range(11):\n",
        "  side = 2**exp\n",
        "  mat_x = torch.rand((side, side))\n",
        "  moveTo(mat_x, device)\n",
        "  time_gpu = timeit.timeit(\"mat_x@mat_x\", globals=globals())\n",
        "  print(f\"Shape = {mat_x.shape} time = {time_gpu} seconds\")\n",
        "  gpu_times.append(time_gpu)"
      ],
      "metadata": {
        "colab": {
          "base_uri": "https://localhost:8080/"
        },
        "id": "PCZGlr5xctVe",
        "outputId": "9b6544d9-bd40-4dde-c189-9d0d54cf3a4b"
      },
      "execution_count": null,
      "outputs": [
        {
          "output_type": "stream",
          "name": "stdout",
          "text": [
            "Shape = torch.Size([1, 1]) time = 2.8066383080000037 seconds\n",
            "Shape = torch.Size([2, 2]) time = 3.2974687300000483 seconds\n",
            "Shape = torch.Size([4, 4]) time = 3.328247248000025 seconds\n",
            "Shape = torch.Size([8, 8]) time = 3.3983864729999596 seconds\n",
            "Shape = torch.Size([16, 16]) time = 3.4297066249999943 seconds\n",
            "Shape = torch.Size([32, 32]) time = 4.289262048000012 seconds\n",
            "Shape = torch.Size([64, 64]) time = 10.598849075999965 seconds\n",
            "Shape = torch.Size([128, 128]) time = 77.04188489300003 seconds\n",
            "Shape = torch.Size([256, 256]) time = 469.70090312400004 seconds\n"
          ]
        }
      ]
    },
    {
      "cell_type": "markdown",
      "source": [
        "# There are m * n * p calculations in a matrix multiplication.\n",
        "# The 128*128 matrix multiplied by itself was 128^3 calculations.\n",
        "# Similarly, the 256*256 matrix multiplied by itself was 256^3 calculations.\n",
        "# That's a factor of 8x. The time taken has gone from 77 seconds to 469 seconds, also a factor of almost 8x. So the GPU is at full capacity, and will take another 50 ish minutes to get the next answer. And then 7 hours for the next one, and so on. These numbers are significantly better than those on the CPU."
      ],
      "metadata": {
        "id": "HlGcL1TGhJws"
      }
    },
    {
      "cell_type": "code",
      "source": [
        "def complex_f1(x):\n",
        "  return torch.sin(x-2)*((x+2)**2) + torch.sqrt(torch.abs(torch.cos(x)))"
      ],
      "metadata": {
        "id": "dx3W8yIpT5t7"
      },
      "execution_count": null,
      "outputs": []
    },
    {
      "cell_type": "code",
      "source": [
        ""
      ],
      "metadata": {
        "id": "X23QCNvLaCUl"
      },
      "execution_count": null,
      "outputs": []
    },
    {
      "cell_type": "code",
      "source": [
        "print(complex_f1(torch.tensor(0)))\n",
        "print(complex_f1(torch.tensor(1)))\n",
        "print(complex_f1(torch.tensor(10)))\n",
        "print(complex_f1(torch.tensor(1000)))\n",
        "print(complex_f1(torch.tensor(-1)))\n",
        "print(complex_f1(torch.tensor(-10)))\n",
        "print(complex_f1(torch.tensor(-1000)))"
      ],
      "metadata": {
        "colab": {
          "base_uri": "https://localhost:8080/"
        },
        "id": "Vcgg_HvMXB4A",
        "outputId": "1cdcd6e9-c442-449c-b4d8-594fdde044e1"
      },
      "execution_count": null,
      "outputs": [
        {
          "output_type": "stream",
          "name": "stdout",
          "text": [
            "tensor(-2.6372)\n",
            "tensor(-6.8382)\n",
            "tensor(143.3836)\n",
            "tensor(-858897.7500)\n",
            "tensor(0.5939)\n",
            "tensor(35.2567)\n",
            "tensor(-166597.4062)\n"
          ]
        }
      ]
    },
    {
      "cell_type": "code",
      "source": [
        "x_param = torch.nn.Parameter(torch.tensor([0.0]), requires_grad=True)\n",
        "optimizer = torch.optim.SGD(params=[x_param], lr=eta)"
      ],
      "metadata": {
        "id": "oqxTBelsXfNG"
      },
      "execution_count": null,
      "outputs": []
    },
    {
      "cell_type": "code",
      "source": [
        "%%time\n",
        "num_epochs = 30\n",
        "param_updates = []\n",
        "for epoch in range(num_epochs):\n",
        "  optimizer.zero_grad()\n",
        "  loss_incurred = complex_f1(x_param)\n",
        "  if epoch == 0:\n",
        "    print(f\"Type of loss incurred = {type(loss_incurred)}\")\n",
        "  loss_incurred.backward()\n",
        "  optimizer.step() # this means the parameters would get updated using the learning rate and gradient.\n",
        "  param_updates.append(x_param.data.item())\n",
        "  # if epoch %10 == 0:\n",
        "  print(f\"{epoch}: {x_param.data}\")"
      ],
      "metadata": {
        "colab": {
          "base_uri": "https://localhost:8080/"
        },
        "id": "DWuiBtolSbrS",
        "outputId": "332728ce-4d62-410a-e049-8ac93a046669"
      },
      "execution_count": null,
      "outputs": [
        {
          "output_type": "stream",
          "name": "stdout",
          "text": [
            "Type of loss incurred = <class 'torch.Tensor'>\n",
            "0: tensor([0.5302])\n",
            "1: tensor([0.9963])\n",
            "2: tensor([1.0764])\n",
            "3: tensor([1.0605])\n",
            "4: tensor([1.0642])\n",
            "5: tensor([1.0634])\n",
            "6: tensor([1.0636])\n",
            "7: tensor([1.0635])\n",
            "8: tensor([1.0635])\n",
            "9: tensor([1.0635])\n",
            "10: tensor([1.0635])\n",
            "11: tensor([1.0635])\n",
            "12: tensor([1.0635])\n",
            "13: tensor([1.0635])\n",
            "14: tensor([1.0635])\n",
            "15: tensor([1.0635])\n",
            "16: tensor([1.0635])\n",
            "17: tensor([1.0635])\n",
            "18: tensor([1.0635])\n",
            "19: tensor([1.0635])\n",
            "20: tensor([1.0635])\n",
            "21: tensor([1.0635])\n",
            "22: tensor([1.0635])\n",
            "23: tensor([1.0635])\n",
            "24: tensor([1.0635])\n",
            "25: tensor([1.0635])\n",
            "26: tensor([1.0635])\n",
            "27: tensor([1.0635])\n",
            "28: tensor([1.0635])\n",
            "29: tensor([1.0635])\n",
            "CPU times: user 20.8 ms, sys: 992 µs, total: 21.8 ms\n",
            "Wall time: 23.7 ms\n"
          ]
        }
      ]
    },
    {
      "cell_type": "code",
      "source": [
        "def complex_f2(x, y):\n",
        "  return (torch.pow(torch.e, torch.pow(torch.sin(x), 2)) / torch.pow((x-y), 2) ) + torch.pow((x-y), 2)\n"
      ],
      "metadata": {
        "id": "MOcBeznSXWki"
      },
      "execution_count": null,
      "outputs": []
    },
    {
      "cell_type": "code",
      "source": [
        "\n",
        "complex_f2(torch.tensor(0.2), torch.tensor(10.0))"
      ],
      "metadata": {
        "colab": {
          "base_uri": "https://localhost:8080/"
        },
        "id": "o2efbUOXazh7",
        "outputId": "1fcaf34c-d50a-4b2d-b08a-4b5909babde3"
      },
      "execution_count": null,
      "outputs": [
        {
          "output_type": "execute_result",
          "data": {
            "text/plain": [
              "tensor(96.0508)"
            ]
          },
          "metadata": {},
          "execution_count": 153
        }
      ]
    },
    {
      "cell_type": "code",
      "source": [
        "%%time\n",
        "\n",
        "x_param = torch.nn.Parameter(torch.tensor([0.2]), requires_grad=True)\n",
        "y_param = torch.nn.Parameter(torch.tensor([10.0]), requires_grad=True)\n",
        "optimizer = torch.optim.SGD(params=[x_param, y_param], lr=eta)\n",
        "\n",
        "num_epochs = 60\n",
        "param_updates = []\n",
        "for epoch in range(num_epochs):\n",
        "  optimizer.zero_grad()\n",
        "  loss_incurred = complex_f2(x_param, y_param)\n",
        "  if epoch == 0:\n",
        "    print(f\"Type of loss incurred = {type(loss_incurred)}\")\n",
        "  loss_incurred.backward()\n",
        "  optimizer.step() # this means the parameters would get updated using the learning rate and gradient.\n",
        "  param_updates.append((x_param.data.item(), y_param.data.item()))\n",
        "  # if epoch %10 == 0:\n",
        "  print(f\"{epoch}: {x_param.data} {y_param.data}\")"
      ],
      "metadata": {
        "colab": {
          "base_uri": "https://localhost:8080/"
        },
        "id": "SISmtA-la7sG",
        "outputId": "b0c53cec-442b-4d66-c850-76948239872d"
      },
      "execution_count": null,
      "outputs": [
        {
          "output_type": "stream",
          "name": "stdout",
          "text": [
            "Type of loss incurred = <class 'torch.Tensor'>\n",
            "0: tensor([2.1594]) tensor([8.0402])\n",
            "1: tensor([3.3389]) tensor([6.8660])\n",
            "2: tensor([4.0364]) tensor([6.1653])\n",
            "3: tensor([4.3845]) tensor([5.7776])\n",
            "4: tensor([4.4049]) tensor([5.6803])\n",
            "5: tensor([4.3329]) tensor([5.6643])\n",
            "6: tensor([4.3064]) tensor([5.5988])\n",
            "7: tensor([4.2484]) tensor([5.5558])\n",
            "8: tensor([4.2065]) tensor([5.4934])\n",
            "9: tensor([4.1521]) tensor([5.4377])\n",
            "10: tensor([4.1047]) tensor([5.3735])\n",
            "11: tensor([4.0521]) tensor([5.3119])\n",
            "12: tensor([4.0035]) tensor([5.2466])\n",
            "13: tensor([3.9531]) tensor([5.1832])\n",
            "14: tensor([3.9056]) tensor([5.1190])\n",
            "15: tensor([3.8581]) tensor([5.0570])\n",
            "16: tensor([3.8131]) tensor([4.9959])\n",
            "17: tensor([3.7691]) tensor([4.9374])\n",
            "18: tensor([3.7274]) tensor([4.8808])\n",
            "19: tensor([3.6871]) tensor([4.8270])\n",
            "20: tensor([3.6490]) tensor([4.7758])\n",
            "21: tensor([3.6126]) tensor([4.7275])\n",
            "22: tensor([3.5783]) tensor([4.6818])\n",
            "23: tensor([3.5457]) tensor([4.6391])\n",
            "24: tensor([3.5152]) tensor([4.5990])\n",
            "25: tensor([3.4864]) tensor([4.5617])\n",
            "26: tensor([3.4595]) tensor([4.5270])\n",
            "27: tensor([3.4342]) tensor([4.4948])\n",
            "28: tensor([3.4107]) tensor([4.4649])\n",
            "29: tensor([3.3888]) tensor([4.4373])\n",
            "30: tensor([3.3684]) tensor([4.4118])\n",
            "31: tensor([3.3496]) tensor([4.3884])\n",
            "32: tensor([3.3321]) tensor([4.3668])\n",
            "33: tensor([3.3159]) tensor([4.3470])\n",
            "34: tensor([3.3010]) tensor([4.3288])\n",
            "35: tensor([3.2872]) tensor([4.3121])\n",
            "36: tensor([3.2745]) tensor([4.2969])\n",
            "37: tensor([3.2629]) tensor([4.2829])\n",
            "38: tensor([3.2522]) tensor([4.2702])\n",
            "39: tensor([3.2424]) tensor([4.2585])\n",
            "40: tensor([3.2335]) tensor([4.2479])\n",
            "41: tensor([3.2252]) tensor([4.2382])\n",
            "42: tensor([3.2177]) tensor([4.2294])\n",
            "43: tensor([3.2109]) tensor([4.2213])\n",
            "44: tensor([3.2046]) tensor([4.2140])\n",
            "45: tensor([3.1989]) tensor([4.2074])\n",
            "46: tensor([3.1937]) tensor([4.2013])\n",
            "47: tensor([3.1889]) tensor([4.1958])\n",
            "48: tensor([3.1846]) tensor([4.1908])\n",
            "49: tensor([3.1806]) tensor([4.1862])\n",
            "50: tensor([3.1770]) tensor([4.1821])\n",
            "51: tensor([3.1738]) tensor([4.1783])\n",
            "52: tensor([3.1708]) tensor([4.1749])\n",
            "53: tensor([3.1681]) tensor([4.1718])\n",
            "54: tensor([3.1657]) tensor([4.1690])\n",
            "55: tensor([3.1634]) tensor([4.1665])\n",
            "56: tensor([3.1614]) tensor([4.1641])\n",
            "57: tensor([3.1596]) tensor([4.1620])\n",
            "58: tensor([3.1579]) tensor([4.1601])\n",
            "59: tensor([3.1564]) tensor([4.1584])\n",
            "CPU times: user 52.3 ms, sys: 10.1 ms, total: 62.4 ms\n",
            "Wall time: 61.7 ms\n"
          ]
        }
      ]
    },
    {
      "cell_type": "code",
      "source": [
        ""
      ],
      "metadata": {
        "id": "dmpfaBmebwtt"
      },
      "execution_count": null,
      "outputs": []
    }
  ]
}